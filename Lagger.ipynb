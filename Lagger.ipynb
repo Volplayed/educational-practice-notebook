{
 "cells": [
  {
   "cell_type": "code",
   "execution_count": 52,
   "metadata": {},
   "outputs": [],
   "source": [
    "%matplotlib widget\n",
    "import numpy as np\n",
    "import pandas as pd\n",
    "import matplotlib.pyplot as plt\n",
    "import ipywidgets as widgets"
   ]
  },
  {
   "cell_type": "markdown",
   "metadata": {},
   "source": [
    "# Теоретична частина\n",
    "## Поліноми Лагера 1.1\n",
    "Поліноми Лагера є розв'язками диференціального рівняння:\n",
    "$$xy''+(1-x)y'+ny=0$$\n",
    "\n",
    "Поліноми Лагера визначаються формулою:\n",
    "$$L_{n}(x)={\\frac {e^{x}}{n!}}{\\frac {d^{n}}{dx^{n}}}\\left(e^{-x}x^{n}\\right)$$\n",
    "\n",
    "## Функції лагера 1.2\n",
    "Функції Лагера визначаються формулою:\n",
    "$$l_n(t)={\\sqrt\\sigma}L_n(t){e^{-t\\frac{{\\beta}}{2}}}$$\n",
    "де $\\sigma$ і $\\beta$ є параметрами. І $0\\le\\beta\\le\\sigma \\quad \\beta, \\sigma \\in \\R$\n",
    "\n",
    "Ми можеио визначити функції Лагера рекурсивно:\n",
    "\n",
    "$$\\begin{cases}\n",
    "\\tag{1}\n",
    "l_0(t)=\\sqrt\\sigma{e^{-t\\frac{{\\beta}}{2}}}\\\\\n",
    "{l_1(t)=\\sqrt\\sigma{(1-\\sigma{t})}{e^{-t\\frac{{\\beta}}{2}}}}\\\\\n",
    "l_{n}(t)=\\frac{2n-1-\\sigma{t}}{n}l_{n-1}- \\frac{n-1}{n}l_{n-2}\n",
    "\\end{cases}\n",
    "$$"
   ]
  },
  {
   "cell_type": "code",
   "execution_count": 53,
   "metadata": {},
   "outputs": [],
   "source": [
    "def laguerre(t, n, beta=2, sigma=4):\n",
    "    if beta < 0 or beta > sigma:\n",
    "        raise ValueError(\"Wrong parameters\")\n",
    "    \n",
    "\n",
    "    lpp = np.sqrt(sigma)*np.exp(-beta*t/2)\n",
    "\n",
    "    lp = np.sqrt(sigma)*(1 - sigma*t)*np.exp(-beta*t/2)\n",
    "\n",
    "    if n == 0:\n",
    "        return lpp\n",
    "    if n == 1:\n",
    "        return lp\n",
    "\n",
    "    for i in range(2, n+1):\n",
    "        temp = lp\n",
    "        lp = (2*i -1 -sigma*t)*lp/i - (i-1)*lpp / i\n",
    "        lpp = temp\n",
    "     \n",
    "    return lp"
   ]
  },
  {
   "cell_type": "markdown",
   "metadata": {},
   "source": [
    "Приклад використання функції Лагера з параметрами $\\sigma=4$ і $\\beta=2$ для $n=2$ і $t=1$:"
   ]
  },
  {
   "cell_type": "code",
   "execution_count": 54,
   "metadata": {},
   "outputs": [
    {
     "data": {
      "text/plain": [
       "0.7357588823428847"
      ]
     },
     "execution_count": 54,
     "metadata": {},
     "output_type": "execute_result"
    }
   ],
   "source": [
    "laguerre(1, 2, beta=2, sigma=4)"
   ]
  },
  {
   "cell_type": "markdown",
   "metadata": {},
   "source": [
    "Табуляція функції Лагера:"
   ]
  },
  {
   "cell_type": "code",
   "execution_count": 55,
   "metadata": {},
   "outputs": [],
   "source": [
    "def tabulate_laguerre(T, n, beta, sigma):\n",
    "    t = np.linspace(0, T, 100)\n",
    "    results = laguerre(t, n, beta, sigma)\n",
    "    df = pd.DataFrame({'t': t, 'l': results})\n",
    "    return df.round(5)"
   ]
  },
  {
   "cell_type": "code",
   "execution_count": 56,
   "metadata": {},
   "outputs": [
    {
     "data": {
      "text/html": [
       "<div>\n",
       "<style scoped>\n",
       "    .dataframe tbody tr th:only-of-type {\n",
       "        vertical-align: middle;\n",
       "    }\n",
       "\n",
       "    .dataframe tbody tr th {\n",
       "        vertical-align: top;\n",
       "    }\n",
       "\n",
       "    .dataframe thead th {\n",
       "        text-align: right;\n",
       "    }\n",
       "</style>\n",
       "<table border=\"1\" class=\"dataframe\">\n",
       "  <thead>\n",
       "    <tr style=\"text-align: right;\">\n",
       "      <th></th>\n",
       "      <th>t</th>\n",
       "      <th>l</th>\n",
       "    </tr>\n",
       "  </thead>\n",
       "  <tbody>\n",
       "    <tr>\n",
       "      <th>0</th>\n",
       "      <td>0.00000</td>\n",
       "      <td>2.00000</td>\n",
       "    </tr>\n",
       "    <tr>\n",
       "      <th>1</th>\n",
       "      <td>0.10101</td>\n",
       "      <td>0.49453</td>\n",
       "    </tr>\n",
       "    <tr>\n",
       "      <th>2</th>\n",
       "      <td>0.20202</td>\n",
       "      <td>-0.47336</td>\n",
       "    </tr>\n",
       "    <tr>\n",
       "      <th>3</th>\n",
       "      <td>0.30303</td>\n",
       "      <td>-1.01868</td>\n",
       "    </tr>\n",
       "    <tr>\n",
       "      <th>4</th>\n",
       "      <td>0.40404</td>\n",
       "      <td>-1.23687</td>\n",
       "    </tr>\n",
       "  </tbody>\n",
       "</table>\n",
       "</div>"
      ],
      "text/plain": [
       "         t        l\n",
       "0  0.00000  2.00000\n",
       "1  0.10101  0.49453\n",
       "2  0.20202 -0.47336\n",
       "3  0.30303 -1.01868\n",
       "4  0.40404 -1.23687"
      ]
     },
     "execution_count": 56,
     "metadata": {},
     "output_type": "execute_result"
    }
   ],
   "source": [
    "tabulate_laguerre(10, 2, 2, 4).head()"
   ]
  },
  {
   "cell_type": "markdown",
   "metadata": {},
   "source": [
    "### Експеримент\n",
    "Легко побачити що функції Лагера прямують до нуля при $t\\to\\infty$. Тепер ми спробуємо знайти значення $t$ при якому $l_n(t)<10^{-3}$<br>${\\forall}n\\in[1,N]$"
   ]
  },
  {
   "cell_type": "code",
   "execution_count": 57,
   "metadata": {},
   "outputs": [],
   "source": [
    "def experiment(T, beta, sigma, epsilon=1e-3, N=20):\n",
    "    t = np.linspace(0, T, 1000)\n",
    "    n = range(1, N+1)\n",
    "    result = None\n",
    "    for i in t:\n",
    "        flag = True\n",
    "        for j in n:\n",
    "            if abs(laguerre(i, j, beta, sigma)) > epsilon:\n",
    "                flag = False\n",
    "                break\n",
    "        if flag and result is None:\n",
    "            result = i\n",
    "    \n",
    "\n",
    "    cols = {\"t\" : t}\n",
    "    for j in n:\n",
    "        cols[f\"n={j}\"] = laguerre(t, j, beta, sigma)\n",
    "\n",
    "    df = pd.DataFrame(cols)\n",
    "\n",
    "    return result, df.round(5)\n"
   ]
  },
  {
   "cell_type": "code",
   "execution_count": 58,
   "metadata": {},
   "outputs": [
    {
     "data": {
      "text/plain": [
       "79.07907907907908"
      ]
     },
     "execution_count": 58,
     "metadata": {},
     "output_type": "execute_result"
    }
   ],
   "source": [
    "r, df = experiment(100, 2, 4)\n",
    "r"
   ]
  },
  {
   "cell_type": "markdown",
   "metadata": {},
   "source": [
    "Результатом для $N=20$ є:\n",
    "<br>\n",
    "$t\\approx79$ - остання точка при якій $l_n(t)<10^{-3}$\n",
    "<br>\n",
    "Це можна буде використати для визначення верхньої межі інтегрування в подальшому.\n"
   ]
  },
  {
   "cell_type": "markdown",
   "metadata": {},
   "source": [
    "## Перетворення Лагера 1.3\n",
    "Перетворення Лагера ставить функції $f(x)$ відповідний вектор значень $f := (f_0, f_1, \\dots, f_k, \\dots)$, де $f_k$ визначається як:\n",
    "\n",
    "$$\\begin{equation}\n",
    "\n",
    "f_k=\\int_0^\\infty f(t)l_k(t)e^{-\\alpha{t}}dt\n",
    "\\tag{2}\n",
    "\\end{equation}$$\n",
    "$$\\alpha = \\sigma - \\beta$$"
   ]
  },
  {
   "cell_type": "markdown",
   "metadata": {},
   "source": [
    "Для початку визначимо функцію для чисельного інтегрування методом прямокутників:"
   ]
  },
  {
   "cell_type": "code",
   "execution_count": 59,
   "metadata": {},
   "outputs": [],
   "source": [
    "def quad(f, a, b, N=10000):   \n",
    "    x = np.linspace(a, b, N)\n",
    "    s = sum([f(i) for i in x])\n",
    "    return s*abs(b-a)/N"
   ]
  },
  {
   "cell_type": "markdown",
   "metadata": {},
   "source": [
    "Після цього визначаємо функцію для обрахунку перетворення Лагера $(2)$:"
   ]
  },
  {
   "cell_type": "code",
   "execution_count": 60,
   "metadata": {},
   "outputs": [],
   "source": [
    "def laguerre_transformation(f, n, beta=2, sigma=4):\n",
    "    def integrand(t):\n",
    "        return f(t)*laguerre(t, n, beta, sigma)*np.exp(-t*(sigma-beta))\n",
    "    b = experiment(100, beta, sigma)[0]\n",
    "\n",
    "    return quad(integrand, 0, b)"
   ]
  },
  {
   "cell_type": "code",
   "execution_count": 61,
   "metadata": {},
   "outputs": [],
   "source": [
    "def tabulate_transformation(f, N, beta, sigma):\n",
    "    results = [laguerre_transformation(f, n, beta, sigma) for n in range(N+1)]\n",
    "    \n",
    "    return results"
   ]
  },
  {
   "cell_type": "markdown",
   "metadata": {},
   "source": [
    "Дана функція:\n",
    "$f(t)=$\n",
    "$$\n",
    "\\begin{cases}\n",
    "\\sin{(t-\\frac{\\pi}{2})}+1 & \\text{if } t\\in[0,2\\pi]\\\\\n",
    "0 & \\text{інакше}\n",
    "\\end{cases}$$"
   ]
  },
  {
   "cell_type": "code",
   "execution_count": 62,
   "metadata": {},
   "outputs": [],
   "source": [
    "def f(t):\n",
    "    if t >= 0 and t <= 2*np.pi:\n",
    "        return np.sin(t-np.pi/2) + 1\n",
    "    else:\n",
    "        return 0"
   ]
  },
  {
   "cell_type": "markdown",
   "metadata": {},
   "source": [
    "І застосовуємо перетворення Лагера:"
   ]
  },
  {
   "cell_type": "code",
   "execution_count": 63,
   "metadata": {},
   "outputs": [
    {
     "data": {
      "text/plain": [
       "[0.06665999946809152,\n",
       " -0.1822039881310192,\n",
       " 0.17805610913078898,\n",
       " -0.0742826695000306,\n",
       " 0.007262784325811692,\n",
       " 0.007587430478937864,\n",
       " -0.003096494945065475,\n",
       " -0.0006148703444646362,\n",
       " 0.0007994250066752776,\n",
       " -2.5850153812011465e-05,\n",
       " -0.00023592602139502894,\n",
       " 5.256960095504625e-05,\n",
       " 9.381390277832641e-05,\n",
       " -3.0676683574269335e-05,\n",
       " -5.2658350956100556e-05,\n",
       " 1.097528013689054e-05,\n",
       " 3.616172697533956e-05,\n",
       " 4.5476548832641705e-06,\n",
       " -2.3361494137766216e-05,\n",
       " -1.4823620942386276e-05,\n",
       " 8.910978104645316e-06]"
      ]
     },
     "execution_count": 63,
     "metadata": {},
     "output_type": "execute_result"
    }
   ],
   "source": [
    "tabulate_transformation(f, 20, 2, 4)"
   ]
  },
  {
   "cell_type": "markdown",
   "metadata": {},
   "source": [
    "## Обернене перетворення Лагера 1.4\n",
    "Обернене перетворення Лагера ставить у відповідність вектору значень $h := (h_0, h_1, \\dots, h_k, \\dots)$ функцію $h(t)$\n",
    "$$\\begin{equation}\n",
    "\\tag{3}\n",
    "h(t)=\\sum_{k=0}^\\infty h_kl_k(t)\n",
    "\\end{equation}$$\n",
    "де $l_k(t)$ - функція Лагера."
   ]
  },
  {
   "cell_type": "code",
   "execution_count": 64,
   "metadata": {},
   "outputs": [],
   "source": [
    "def reversed_laguerre_transformation(h_list, t, beta=2, sigma=4):\n",
    "    result_sum = 0\n",
    "\n",
    "    h_list_new = list(filter(lambda x: x != 0, h_list))\n",
    "\n",
    "    for i in range(len(h_list_new)):\n",
    "        result_sum += h_list_new[i]*laguerre(t, i, beta, sigma)\n",
    "    \n",
    "    return result_sum"
   ]
  },
  {
   "cell_type": "code",
   "execution_count": 65,
   "metadata": {},
   "outputs": [
    {
     "data": {
      "text/plain": [
       "1.9997392005657693"
      ]
     },
     "execution_count": 65,
     "metadata": {},
     "output_type": "execute_result"
    }
   ],
   "source": [
    "transfomormed_temp = tabulate_transformation(f, 20, 2, 4)\n",
    "reversed_laguerre_transformation(transfomormed_temp, np.pi, 2, 4)"
   ]
  },
  {
   "cell_type": "markdown",
   "metadata": {},
   "source": [
    "# Графічне відображення результатів\n",
    "## Функції Лагера"
   ]
  },
  {
   "cell_type": "code",
   "execution_count": 66,
   "metadata": {},
   "outputs": [],
   "source": [
    "def plot_laguerre(T, N, beta=2, sigma=4):\n",
    "    plt.close(\"all\")\n",
    "    fig = plt.figure(figsize=(10, 10))\n",
    "    ax = fig.gca()\n",
    "    for n in range(N+1):\n",
    "        laguerre_values = tabulate_laguerre(T, n, beta, sigma)\n",
    "        ax.plot(laguerre_values['t'], laguerre_values['l'], label=f\"n={n}\", linewidth=2.0, alpha=0.7)\n",
    "    \n",
    "    ax.set_xlabel(\"t\")\n",
    "    ax.set_ylabel(\"l(t)\")\n",
    "    ax.set_title(\"Функції Лагера\")\n",
    "    fig.legend(loc='lower center', ncol=5)\n",
    "    plt.show()\n"
   ]
  },
  {
   "cell_type": "code",
   "execution_count": 67,
   "metadata": {},
   "outputs": [
    {
     "data": {
      "application/vnd.jupyter.widget-view+json": {
       "model_id": "148d23eed9644afeb96029cca56460e3",
       "version_major": 2,
       "version_minor": 0
      },
      "text/plain": [
       "VBox(children=(FloatSlider(value=10.0, continuous_update=False, description='T:', readout_format='.1f', step=1…"
      ]
     },
     "metadata": {},
     "output_type": "display_data"
    }
   ],
   "source": [
    "\n",
    "t_slider = widgets.FloatSlider(\n",
    "    value=10,\n",
    "    min=0,\n",
    "    max=100,\n",
    "    step=1,\n",
    "    description='T:',\n",
    "    disabled=False,\n",
    "    continuous_update=False,\n",
    "    orientation='horizontal',\n",
    "    readout=True,\n",
    "    readout_format='.1f',\n",
    ")\n",
    "beta_slider = widgets.FloatSlider(\n",
    "    value=2,\n",
    "    min=0,\n",
    "    max=10,\n",
    "    step=0.1,\n",
    "    description='beta:',\n",
    "    disabled=False,\n",
    "    continuous_update=False,\n",
    "    orientation='horizontal',\n",
    "    readout=True,\n",
    "    readout_format='.1f',\n",
    ")\n",
    "sigma_slider = widgets.FloatSlider(\n",
    "    value=4,\n",
    "    min=beta_slider.value,\n",
    "    max=10,\n",
    "    step=0.1,\n",
    "    description='sigma:',\n",
    "    disabled=False,\n",
    "    continuous_update=False,\n",
    "    orientation='horizontal',\n",
    "    readout=True,\n",
    "    readout_format='.1f',\n",
    ")\n",
    "\n",
    "N_slider = widgets.IntSlider(\n",
    "    value=10,\n",
    "    min=0,\n",
    "    max=100,\n",
    "    step=1,\n",
    "    description='N:',\n",
    "    disabled=False,\n",
    "    continuous_update=False,\n",
    "    orientation='horizontal',\n",
    "    readout=True,\n",
    "    readout_format='d'\n",
    ")\n",
    "def update_sigma_min(change):\n",
    "    sigma_slider.min = change['new']\n",
    "\n",
    "beta_slider.observe(update_sigma_min, 'value')\n",
    "\n",
    "output = widgets.Output()\n",
    "\n",
    "def update_plot(change):\n",
    "    with output:\n",
    "        output.clear_output(wait=True)\n",
    "        plot_laguerre(t_slider.value, N_slider.value, beta_slider.value, sigma_slider.value)\n",
    "\n",
    "t_slider.observe(update_plot, 'value')\n",
    "N_slider.observe(update_plot, 'value')\n",
    "beta_slider.observe(update_plot, 'value')\n",
    "sigma_slider.observe(update_plot, 'value')\n",
    "\n",
    "box = widgets.VBox([t_slider, beta_slider, sigma_slider, N_slider, output])\n",
    "\n",
    "display(box)"
   ]
  },
  {
   "cell_type": "markdown",
   "metadata": {},
   "source": [
    "## Перетворення Лагера"
   ]
  },
  {
   "cell_type": "code",
   "execution_count": 68,
   "metadata": {},
   "outputs": [],
   "source": [
    "def plot_transformation(f, n, beta=2, sigma=4):\n",
    "    plt.close(\"all\")\n",
    "    fig = plt.figure(figsize=(5, 5))\n",
    "    ax = fig.gca()\n",
    "    transform_values = tabulate_transformation(f, n, beta, sigma)\n",
    "    ax.bar(range(n+1), transform_values, alpha=0.7, edgecolor='black', width=1)\n",
    "\n",
    "    ax.set_xlabel(\"n\")\n",
    "    ax.set_ylabel(\"f_n\")\n",
    "    ax.set_title(\"Коефіцієнти перетворення\")\n",
    "    ax.set_xticks(range(n+1))\n",
    "    fig.tight_layout()\n",
    "    plt.axhline(0, color='black')\n",
    "    plt.show()"
   ]
  },
  {
   "cell_type": "code",
   "execution_count": 69,
   "metadata": {},
   "outputs": [
    {
     "data": {
      "application/vnd.jupyter.widget-view+json": {
       "model_id": "a9b9b66e8b5244f087bcaf5291797cb8",
       "version_major": 2,
       "version_minor": 0
      },
      "text/plain": [
       "VBox(children=(FloatSlider(value=2.0, continuous_update=False, description='beta:', max=10.0, readout_format='…"
      ]
     },
     "metadata": {},
     "output_type": "display_data"
    }
   ],
   "source": [
    "\n",
    "beta_slider = widgets.FloatSlider(\n",
    "    value=2,\n",
    "    min=0,\n",
    "    max=10,\n",
    "    step=0.1,\n",
    "    description='beta:',\n",
    "    disabled=False,\n",
    "    continuous_update=False,\n",
    "    orientation='horizontal',\n",
    "    readout=True,\n",
    "    readout_format='.1f',\n",
    ")\n",
    "sigma_slider = widgets.FloatSlider(\n",
    "    value=4,\n",
    "    min=beta_slider.value,\n",
    "    max=10,\n",
    "    step=0.1,\n",
    "    description='sigma:',\n",
    "    disabled=False,\n",
    "    continuous_update=False,\n",
    "    orientation='horizontal',\n",
    "    readout=True,\n",
    "    readout_format='.1f',\n",
    ")\n",
    "\n",
    "N_slider = widgets.IntSlider(\n",
    "    value=10,\n",
    "    min=0,\n",
    "    max=100,\n",
    "    step=1,\n",
    "    description='N:',\n",
    "    disabled=False,\n",
    "    continuous_update=False,\n",
    "    orientation='horizontal',\n",
    "    readout=True,\n",
    "    readout_format='d'\n",
    ")\n",
    "def update_sigma_min(change):\n",
    "    sigma_slider.min = change['new']\n",
    "\n",
    "beta_slider.observe(update_sigma_min, 'value')\n",
    "\n",
    "output = widgets.Output()\n",
    "\n",
    "def update_plot(change):\n",
    "    with output:\n",
    "        output.clear_output(wait=True)\n",
    "        plot_transformation(f, N_slider.value, beta_slider.value, sigma_slider.value)\n",
    "\n",
    "N_slider.observe(update_plot, 'value')\n",
    "beta_slider.observe(update_plot, 'value')\n",
    "sigma_slider.observe(update_plot, 'value')\n",
    "\n",
    "box = widgets.VBox([beta_slider, sigma_slider, N_slider, output])\n",
    "\n",
    "display(box)"
   ]
  },
  {
   "cell_type": "markdown",
   "metadata": {},
   "source": [
    "## Оберенене перетворення Лагера"
   ]
  },
  {
   "cell_type": "code",
   "execution_count": 70,
   "metadata": {},
   "outputs": [],
   "source": [
    "def plot_tranformations(f, n, beta=2, sigma=4, t1=0, t2=2*np.pi):\n",
    "    plt.close(\"all\")\n",
    "    transform_values = tabulate_transformation(f, n, beta, sigma)\n",
    "    reversed_transform_values = [reversed_laguerre_transformation(transform_values, t, beta, sigma) for t in np.linspace(t1, t2, 1000)]\n",
    "    correct_values = [f(t) for t in np.linspace(t1, t2, 1000)]\n",
    "\n",
    "    fig = plt.figure(figsize=(10, 10))\n",
    "    ax = fig.subplots(2, 1)\n",
    "    ax[0].bar(range(n+1), transform_values, alpha=0.7, edgecolor='black')\n",
    "\n",
    "    ax[0].set_xlabel(\"n\")\n",
    "    ax[0].set_ylabel(\"f_n\")\n",
    "    ax[0].set_title(\"Коефіцієнти перетворення\")\n",
    "    ax[0].set_xticks(range(n+1))\n",
    "    fig.tight_layout()\n",
    "    ax[0].axhline(0, color='black')\n",
    "\n",
    "    ax[1].plot(np.linspace(t1, t2, 1000), reversed_transform_values, alpha=0.7, linewidth=2.0, label=\"Отримана функція\")\n",
    "    ax[1].plot(np.linspace(t1, t2, 1000), correct_values, alpha=0.7, linewidth=2.0, linestyle=\"--\",label=\"Початкова функція\")\n",
    "    ax[1].set_xlabel(\"t\")\n",
    "    ax[1].set_ylabel(\"f(t)\")\n",
    "    ax[1].set_title(\"Обернене перетворення\")\n",
    "    ax[1].legend(loc='lower center', ncol=2)\n",
    "    plt.show()"
   ]
  },
  {
   "cell_type": "code",
   "execution_count": 71,
   "metadata": {},
   "outputs": [],
   "source": [
    "def create_transformation_widget(func, t0, t1):    \n",
    "    beta_slider = widgets.FloatSlider(\n",
    "        value=2,\n",
    "        min=0,\n",
    "        max=10,\n",
    "        step=0.1,\n",
    "        description='beta:',\n",
    "        disabled=False,\n",
    "        continuous_update=False,\n",
    "        orientation='horizontal',\n",
    "        readout=True,\n",
    "        readout_format='.1f',\n",
    "    )\n",
    "    sigma_slider = widgets.FloatSlider(\n",
    "        value=4,\n",
    "        min=beta_slider.value,\n",
    "        max=10,\n",
    "        step=0.1,\n",
    "        description='sigma:',\n",
    "        disabled=False,\n",
    "        continuous_update=False,\n",
    "        orientation='horizontal',\n",
    "        readout=True,\n",
    "        readout_format='.1f',\n",
    "    )\n",
    "\n",
    "    N_slider = widgets.IntSlider(\n",
    "        value=10,\n",
    "        min=0,\n",
    "        max=100,\n",
    "        step=1,\n",
    "        description='N:',\n",
    "        disabled=False,\n",
    "        continuous_update=False,\n",
    "        orientation='horizontal',\n",
    "        readout=True,\n",
    "        readout_format='d'\n",
    "    )\n",
    "    def update_sigma_min(change):\n",
    "        sigma_slider.min = change['new']\n",
    "\n",
    "    beta_slider.observe(update_sigma_min, 'value')\n",
    "\n",
    "    output = widgets.Output()\n",
    "\n",
    "    def update_plot(change):\n",
    "        with output:\n",
    "            output.clear_output(wait=True)\n",
    "            plot_tranformations(func, N_slider.value, beta_slider.value, sigma_slider.value, t0, t1)\n",
    "\n",
    "    N_slider.observe(update_plot, 'value')\n",
    "    beta_slider.observe(update_plot, 'value')\n",
    "    sigma_slider.observe(update_plot, 'value')\n",
    "\n",
    "    box = widgets.VBox([beta_slider, sigma_slider, N_slider, output])\n",
    "\n",
    "    display(box)"
   ]
  },
  {
   "cell_type": "code",
   "execution_count": 72,
   "metadata": {},
   "outputs": [
    {
     "data": {
      "application/vnd.jupyter.widget-view+json": {
       "model_id": "68d5c129dce54da38a831dc60c58d3d7",
       "version_major": 2,
       "version_minor": 0
      },
      "text/plain": [
       "VBox(children=(FloatSlider(value=2.0, continuous_update=False, description='beta:', max=10.0, readout_format='…"
      ]
     },
     "metadata": {},
     "output_type": "display_data"
    }
   ],
   "source": [
    "create_transformation_widget(f, 0, 2*np.pi)"
   ]
  },
  {
   "cell_type": "markdown",
   "metadata": {},
   "source": [
    "Врешті, порівнявши початкову і отриману функцію, ми бачимо що вони майже ідентичні. Це означає що обернене перетворення, і будь-яка інша функція, працює правильно."
   ]
  },
  {
   "cell_type": "markdown",
   "metadata": {},
   "source": [
    "Продемонструємо результат і на іншій функції:\n",
    "$$\n",
    "\\begin{cases}\n",
    "\\cos{t} + 1&  \\text{if } t\\in[0,\\frac{\\pi}{2}]\\\\\n",
    "1 & \\text{інакше}\n",
    "\\end{cases}\n",
    "$$"
   ]
  },
  {
   "cell_type": "code",
   "execution_count": 73,
   "metadata": {},
   "outputs": [],
   "source": [
    "def custom_func(t):\n",
    "    if t >= 0 and t <= np.pi/3:\n",
    "        return np.tan(t)\n",
    "    else:\n",
    "        return 2\n",
    "\n"
   ]
  },
  {
   "cell_type": "code",
   "execution_count": 74,
   "metadata": {},
   "outputs": [
    {
     "data": {
      "application/vnd.jupyter.widget-view+json": {
       "model_id": "9d15ea07dd96489a870bb0184d2ea5bc",
       "version_major": 2,
       "version_minor": 0
      },
      "text/plain": [
       "VBox(children=(FloatSlider(value=2.0, continuous_update=False, description='beta:', max=10.0, readout_format='…"
      ]
     },
     "metadata": {},
     "output_type": "display_data"
    }
   ],
   "source": [
    "create_transformation_widget(custom_func, 0, np.pi/3)"
   ]
  },
  {
   "cell_type": "markdown",
   "metadata": {},
   "source": [
    "Бачимо що результат також апроксимує початкову функцію."
   ]
  },
  {
   "cell_type": "markdown",
   "metadata": {},
   "source": [
    "Отже, під час роботи над заваданням ми навчилися використовувати мову програмування Python і її бібліотеки, такі як: numpy, matplotlib, scipy; для імплементації функцій Лагера, перетворення Лагера і оберненого перетворення Лагера."
   ]
  }
 ],
 "metadata": {
  "kernelspec": {
   "display_name": "Python 3 (ipykernel)",
   "language": "python",
   "name": "python3"
  },
  "language_info": {
   "codemirror_mode": {
    "name": "ipython",
    "version": 3
   },
   "file_extension": ".py",
   "mimetype": "text/x-python",
   "name": "python",
   "nbconvert_exporter": "python",
   "pygments_lexer": "ipython3",
   "version": "3.11.3"
  }
 },
 "nbformat": 4,
 "nbformat_minor": 4
}
