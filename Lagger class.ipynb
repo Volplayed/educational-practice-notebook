{
 "cells": [
  {
   "cell_type": "code",
   "execution_count": 1,
   "metadata": {},
   "outputs": [],
   "source": [
    "%matplotlib widget\n",
    "import numpy as np\n",
    "import pandas as pd\n",
    "import matplotlib.pyplot as plt\n",
    "import ipywidgets as widgets\n",
    "import unittest"
   ]
  },
  {
   "cell_type": "code",
   "execution_count": 2,
   "metadata": {},
   "outputs": [],
   "source": [
    "class Integral:\n",
    "    @classmethod\n",
    "    def integrate_quad(cls, f, a, b, N=10000):\n",
    "        x = np.linspace(a, b, N)\n",
    "        s = sum([f(i) for i in x])\n",
    "        return s*abs(b-a)/N"
   ]
  },
  {
   "cell_type": "code",
   "execution_count": 3,
   "metadata": {},
   "outputs": [],
   "source": [
    "class Lagguerre:\n",
    "    def __init__(self, beta, sigma):\n",
    "        self.beta = beta\n",
    "        self.sigma = sigma\n",
    "        \n",
    "    @property\n",
    "    def beta(self):\n",
    "        return self._beta\n",
    "    \n",
    "    @beta.setter\n",
    "    def beta(self, value):\n",
    "        self._beta = value\n",
    "    \n",
    "    @property\n",
    "    def sigma(self):\n",
    "        return self._sigma\n",
    "    \n",
    "    @sigma.setter\n",
    "    def sigma(self, value):\n",
    "        self._sigma = value\n",
    "    \n",
    "    def laguerre(self, t, n):\n",
    "        if self.beta < 0 or self.beta > self.sigma:\n",
    "            raise ValueError(\"Wrong parameters\")\n",
    "        \n",
    "\n",
    "        lpp = np.sqrt(self.sigma)*np.exp(-self.beta*t/2)\n",
    "\n",
    "        lp = np.sqrt(self.sigma)*(1 - self.sigma*t)*np.exp(-self.beta*t/2)\n",
    "\n",
    "        if n == 0:\n",
    "            return lpp\n",
    "        if n == 1:\n",
    "            return lp\n",
    "\n",
    "        for i in range(2, n+1):\n",
    "            temp = lp\n",
    "            lp = (2*i -1 -self.sigma*t)*lp/i - (i-1)*lpp / i\n",
    "            lpp = temp\n",
    "        \n",
    "        return lp\n",
    "    \n",
    "    def tabulate_laguerre(self, T, n):\n",
    "        t = np.linspace(0, T, 100)\n",
    "        results = self.laguerre(t, n)\n",
    "        df = pd.DataFrame({'t': t, 'l': results})\n",
    "        return df.round(5)\n",
    "    \n",
    "    def experiment(self, T, epsilon=1e-3, N=20):\n",
    "        t = np.linspace(0, T, 1000)\n",
    "        n = range(1, N+1)\n",
    "        result = None\n",
    "        for i in t:\n",
    "            flag = True\n",
    "            for j in n:\n",
    "                if abs(self.laguerre(i, j)) > epsilon:\n",
    "                    flag = False\n",
    "                    break\n",
    "            if flag and result is None:\n",
    "                result = i\n",
    "        \n",
    "\n",
    "        cols = {\"t\" : t}\n",
    "        for j in n:\n",
    "            cols[f\"n={j}\"] = self.laguerre(t, j)\n",
    "\n",
    "        df = pd.DataFrame(cols)\n",
    "\n",
    "        return result, df.round(5)\n",
    "    \n",
    "    \n",
    "\n",
    "    def laguerre_transformation(self, f, n):\n",
    "        def integrand(t):\n",
    "            return f(t)*self.laguerre(t, n)*np.exp(-t*(self.sigma-self.beta))\n",
    "        b = self.experiment(100)[0]\n",
    "\n",
    "        return Integral.integrate_quad(integrand, 0, b)\n",
    "    \n",
    "    def tabulate_transformation(self, f, N):\n",
    "        results = [self.laguerre_transformation(f, n) for n in range(N+1)]\n",
    "        \n",
    "        return results\n",
    "    \n",
    "    def reversed_laguerre_transformation(self, h_list, t):\n",
    "        result_sum = 0\n",
    "\n",
    "        h_list_new = list(filter(lambda x: x != 0, h_list))\n",
    "\n",
    "        for i in range(len(h_list_new)):\n",
    "            result_sum += h_list_new[i]*self.laguerre(t, i)\n",
    "        \n",
    "        return result_sum\n",
    "    \n",
    "    \n",
    "\n"
   ]
  },
  {
   "cell_type": "code",
   "execution_count": 4,
   "metadata": {},
   "outputs": [],
   "source": [
    "lag = Lagguerre(2, 4)"
   ]
  },
  {
   "cell_type": "code",
   "execution_count": 5,
   "metadata": {},
   "outputs": [
    {
     "data": {
      "text/plain": [
       "0.7357588823428847"
      ]
     },
     "execution_count": 5,
     "metadata": {},
     "output_type": "execute_result"
    }
   ],
   "source": [
    "lag.laguerre(1, 2)"
   ]
  },
  {
   "cell_type": "code",
   "execution_count": 6,
   "metadata": {},
   "outputs": [
    {
     "data": {
      "text/html": [
       "<div>\n",
       "<style scoped>\n",
       "    .dataframe tbody tr th:only-of-type {\n",
       "        vertical-align: middle;\n",
       "    }\n",
       "\n",
       "    .dataframe tbody tr th {\n",
       "        vertical-align: top;\n",
       "    }\n",
       "\n",
       "    .dataframe thead th {\n",
       "        text-align: right;\n",
       "    }\n",
       "</style>\n",
       "<table border=\"1\" class=\"dataframe\">\n",
       "  <thead>\n",
       "    <tr style=\"text-align: right;\">\n",
       "      <th></th>\n",
       "      <th>t</th>\n",
       "      <th>l</th>\n",
       "    </tr>\n",
       "  </thead>\n",
       "  <tbody>\n",
       "    <tr>\n",
       "      <th>0</th>\n",
       "      <td>0.00000</td>\n",
       "      <td>2.00000</td>\n",
       "    </tr>\n",
       "    <tr>\n",
       "      <th>1</th>\n",
       "      <td>0.10101</td>\n",
       "      <td>0.49453</td>\n",
       "    </tr>\n",
       "    <tr>\n",
       "      <th>2</th>\n",
       "      <td>0.20202</td>\n",
       "      <td>-0.47336</td>\n",
       "    </tr>\n",
       "    <tr>\n",
       "      <th>3</th>\n",
       "      <td>0.30303</td>\n",
       "      <td>-1.01868</td>\n",
       "    </tr>\n",
       "    <tr>\n",
       "      <th>4</th>\n",
       "      <td>0.40404</td>\n",
       "      <td>-1.23687</td>\n",
       "    </tr>\n",
       "  </tbody>\n",
       "</table>\n",
       "</div>"
      ],
      "text/plain": [
       "         t        l\n",
       "0  0.00000  2.00000\n",
       "1  0.10101  0.49453\n",
       "2  0.20202 -0.47336\n",
       "3  0.30303 -1.01868\n",
       "4  0.40404 -1.23687"
      ]
     },
     "execution_count": 6,
     "metadata": {},
     "output_type": "execute_result"
    }
   ],
   "source": [
    "lag.tabulate_laguerre(10, 2).head()"
   ]
  },
  {
   "cell_type": "code",
   "execution_count": 7,
   "metadata": {},
   "outputs": [
    {
     "data": {
      "text/plain": [
       "79.07907907907908"
      ]
     },
     "execution_count": 7,
     "metadata": {},
     "output_type": "execute_result"
    }
   ],
   "source": [
    "r, df = lag.experiment(100)\n",
    "r"
   ]
  },
  {
   "cell_type": "code",
   "execution_count": 8,
   "metadata": {},
   "outputs": [],
   "source": [
    "def f(t):\n",
    "    if t >= 0 and t <= 2*np.pi:\n",
    "        return np.sin(t-np.pi/2) + 1\n",
    "    else:\n",
    "        return 0"
   ]
  },
  {
   "cell_type": "code",
   "execution_count": 9,
   "metadata": {},
   "outputs": [
    {
     "data": {
      "text/plain": [
       "[0.06665999946809152,\n",
       " -0.1822039881310192,\n",
       " 0.17805610913078898,\n",
       " -0.0742826695000306,\n",
       " 0.007262784325811692,\n",
       " 0.007587430478937864,\n",
       " -0.003096494945065475,\n",
       " -0.0006148703444646362,\n",
       " 0.0007994250066752776,\n",
       " -2.5850153812011465e-05,\n",
       " -0.00023592602139502894,\n",
       " 5.256960095504625e-05,\n",
       " 9.381390277832641e-05,\n",
       " -3.0676683574269335e-05,\n",
       " -5.2658350956100556e-05,\n",
       " 1.097528013689054e-05,\n",
       " 3.616172697533956e-05,\n",
       " 4.5476548832641705e-06,\n",
       " -2.3361494137766216e-05,\n",
       " -1.4823620942386276e-05,\n",
       " 8.910978104645316e-06]"
      ]
     },
     "execution_count": 9,
     "metadata": {},
     "output_type": "execute_result"
    }
   ],
   "source": [
    "lag.tabulate_transformation(f, 20)"
   ]
  },
  {
   "cell_type": "code",
   "execution_count": 10,
   "metadata": {},
   "outputs": [
    {
     "data": {
      "text/plain": [
       "1.9997392005657693"
      ]
     },
     "execution_count": 10,
     "metadata": {},
     "output_type": "execute_result"
    }
   ],
   "source": [
    "transfomormed_temp = lag.tabulate_transformation(f, 20)\n",
    "lag.reversed_laguerre_transformation(transfomormed_temp, np.pi)"
   ]
  },
  {
   "cell_type": "code",
   "execution_count": 11,
   "metadata": {},
   "outputs": [],
   "source": [
    "class Plotter:\n",
    "    def __init__(self, laguerre):\n",
    "        self.laguerre = laguerre\n",
    "    \n",
    "    def plot_laguerre(self, T, N):\n",
    "        plt.close(\"all\")\n",
    "        fig = plt.figure(figsize=(10, 10))\n",
    "        ax = fig.gca()\n",
    "        for n in range(N+1):\n",
    "            laguerre_values = self.laguerre.tabulate_laguerre(T, n)\n",
    "            ax.plot(laguerre_values['t'], laguerre_values['l'], label=f\"n={n}\", linewidth=2.0, alpha=0.7)\n",
    "        \n",
    "        ax.set_xlabel(\"t\")\n",
    "        ax.set_ylabel(\"l(t)\")\n",
    "        ax.set_title(\"Функції Лагера\")\n",
    "        fig.legend(loc='lower center', ncol=5)\n",
    "        plt.show()\n",
    "    \n",
    "    def plot_transformation(self, f, n):\n",
    "        plt.close(\"all\")\n",
    "        fig = plt.figure(figsize=(5, 5))\n",
    "        ax = fig.gca()\n",
    "        transform_values = self.laguerre.tabulate_transformation(f, n)\n",
    "        ax.bar(range(n+1), transform_values, alpha=0.7, edgecolor='black', width=1)\n",
    "\n",
    "        ax.set_xlabel(\"n\")\n",
    "        ax.set_ylabel(\"f_n\")\n",
    "        ax.set_title(\"Коефіцієнти перетворення\")\n",
    "        ax.set_xticks(range(n+1))\n",
    "        fig.tight_layout()\n",
    "        plt.axhline(0, color='black')\n",
    "        plt.show()\n",
    "    \n",
    "    def plot_tranformations(self, f, n, t1=0, t2=2*np.pi):\n",
    "        plt.close(\"all\")\n",
    "        transform_values = self.laguerre.tabulate_transformation(f, n)\n",
    "        reversed_transform_values = [self.laguerre.reversed_laguerre_transformation(transform_values, t) for t in np.linspace(t1, t2, 1000)]\n",
    "        correct_values = [f(t) for t in np.linspace(t1, t2, 1000)]\n",
    "\n",
    "        fig = plt.figure(figsize=(10, 10))\n",
    "        ax = fig.subplots(2, 1)\n",
    "        ax[0].bar(range(n+1), transform_values, alpha=0.7, edgecolor='black')\n",
    "\n",
    "        ax[0].set_xlabel(\"n\")\n",
    "        ax[0].set_ylabel(\"f_n\")\n",
    "        ax[0].set_title(\"Коефіцієнти перетворення\")\n",
    "        ax[0].set_xticks(range(n+1))\n",
    "        fig.tight_layout()\n",
    "        ax[0].axhline(0, color='black')\n",
    "\n",
    "        ax[1].plot(np.linspace(t1, t2, 1000), reversed_transform_values, alpha=0.7, linewidth=2.0, label=\"Отримана функція\")\n",
    "        ax[1].plot(np.linspace(t1, t2, 1000), correct_values, alpha=0.7, linewidth=2.0, linestyle=\"--\",label=\"Початкова функція\")\n",
    "        ax[1].set_xlabel(\"t\")\n",
    "        ax[1].set_ylabel(\"f(t)\")\n",
    "        ax[1].set_title(\"Обернене перетворення\")\n",
    "        ax[1].legend(loc='lower center', ncol=2)\n",
    "        plt.show()\n"
   ]
  },
  {
   "cell_type": "code",
   "execution_count": 12,
   "metadata": {},
   "outputs": [],
   "source": [
    "plotter = Plotter(lag)"
   ]
  },
  {
   "cell_type": "code",
   "execution_count": 13,
   "metadata": {},
   "outputs": [
    {
     "data": {
      "application/vnd.jupyter.widget-view+json": {
       "model_id": "37c4f9a673444a9e9291f23f9c035199",
       "version_major": 2,
       "version_minor": 0
      },
      "text/plain": [
       "VBox(children=(FloatSlider(value=10.0, continuous_update=False, description='T:', readout_format='.1f', step=1…"
      ]
     },
     "metadata": {},
     "output_type": "display_data"
    }
   ],
   "source": [
    "\n",
    "t_slider = widgets.FloatSlider(\n",
    "    value=10,\n",
    "    min=0,\n",
    "    max=100,\n",
    "    step=1,\n",
    "    description='T:',\n",
    "    disabled=False,\n",
    "    continuous_update=False,\n",
    "    orientation='horizontal',\n",
    "    readout=True,\n",
    "    readout_format='.1f',\n",
    ")\n",
    "beta_slider = widgets.FloatSlider(\n",
    "    value=2,\n",
    "    min=0,\n",
    "    max=10,\n",
    "    step=0.1,\n",
    "    description='beta:',\n",
    "    disabled=False,\n",
    "    continuous_update=False,\n",
    "    orientation='horizontal',\n",
    "    readout=True,\n",
    "    readout_format='.1f',\n",
    ")\n",
    "sigma_slider = widgets.FloatSlider(\n",
    "    value=4,\n",
    "    min=beta_slider.value,\n",
    "    max=10,\n",
    "    step=0.1,\n",
    "    description='sigma:',\n",
    "    disabled=False,\n",
    "    continuous_update=False,\n",
    "    orientation='horizontal',\n",
    "    readout=True,\n",
    "    readout_format='.1f',\n",
    ")\n",
    "\n",
    "N_slider = widgets.IntSlider(\n",
    "    value=10,\n",
    "    min=0,\n",
    "    max=100,\n",
    "    step=1,\n",
    "    description='N:',\n",
    "    disabled=False,\n",
    "    continuous_update=False,\n",
    "    orientation='horizontal',\n",
    "    readout=True,\n",
    "    readout_format='d'\n",
    ")\n",
    "def update_sigma_min(change):\n",
    "    sigma_slider.min = change['new']\n",
    "\n",
    "beta_slider.observe(update_sigma_min, 'value')\n",
    "\n",
    "output = widgets.Output()\n",
    "\n",
    "def update_plot(change):\n",
    "    with output:\n",
    "        output.clear_output(wait=True)\n",
    "        lag.beta = beta_slider.value\n",
    "        lag.sigma = sigma_slider.value\n",
    "        plotter.plot_laguerre(t_slider.value, N_slider.value)\n",
    "\n",
    "t_slider.observe(update_plot, 'value')\n",
    "N_slider.observe(update_plot, 'value')\n",
    "beta_slider.observe(update_plot, 'value')\n",
    "sigma_slider.observe(update_plot, 'value')\n",
    "\n",
    "box = widgets.VBox([t_slider, beta_slider, sigma_slider, N_slider, output])\n",
    "\n",
    "display(box)"
   ]
  },
  {
   "cell_type": "code",
   "execution_count": 14,
   "metadata": {},
   "outputs": [
    {
     "data": {
      "application/vnd.jupyter.widget-view+json": {
       "model_id": "feee1e40d00c4d8680cae62d16815b88",
       "version_major": 2,
       "version_minor": 0
      },
      "text/plain": [
       "VBox(children=(FloatSlider(value=2.0, continuous_update=False, description='beta:', max=10.0, readout_format='…"
      ]
     },
     "metadata": {},
     "output_type": "display_data"
    }
   ],
   "source": [
    "\n",
    "beta_slider = widgets.FloatSlider(\n",
    "    value=2,\n",
    "    min=0,\n",
    "    max=10,\n",
    "    step=0.1,\n",
    "    description='beta:',\n",
    "    disabled=False,\n",
    "    continuous_update=False,\n",
    "    orientation='horizontal',\n",
    "    readout=True,\n",
    "    readout_format='.1f',\n",
    ")\n",
    "sigma_slider = widgets.FloatSlider(\n",
    "    value=4,\n",
    "    min=beta_slider.value,\n",
    "    max=10,\n",
    "    step=0.1,\n",
    "    description='sigma:',\n",
    "    disabled=False,\n",
    "    continuous_update=False,\n",
    "    orientation='horizontal',\n",
    "    readout=True,\n",
    "    readout_format='.1f',\n",
    ")\n",
    "\n",
    "N_slider = widgets.IntSlider(\n",
    "    value=10,\n",
    "    min=0,\n",
    "    max=100,\n",
    "    step=1,\n",
    "    description='N:',\n",
    "    disabled=False,\n",
    "    continuous_update=False,\n",
    "    orientation='horizontal',\n",
    "    readout=True,\n",
    "    readout_format='d'\n",
    ")\n",
    "def update_sigma_min(change):\n",
    "    sigma_slider.min = change['new']\n",
    "\n",
    "beta_slider.observe(update_sigma_min, 'value')\n",
    "\n",
    "output = widgets.Output()\n",
    "\n",
    "def update_plot(change):\n",
    "    with output:\n",
    "        output.clear_output(wait=True)\n",
    "        lag.beta = beta_slider.value\n",
    "        lag.sigma = sigma_slider.value\n",
    "        plotter.plot_transformation(f, N_slider.value)\n",
    "\n",
    "N_slider.observe(update_plot, 'value')\n",
    "beta_slider.observe(update_plot, 'value')\n",
    "sigma_slider.observe(update_plot, 'value')\n",
    "\n",
    "box = widgets.VBox([beta_slider, sigma_slider, N_slider, output])\n",
    "\n",
    "display(box)"
   ]
  },
  {
   "cell_type": "code",
   "execution_count": 15,
   "metadata": {},
   "outputs": [],
   "source": [
    "def create_transformation_widget(func, t0, t1):    \n",
    "    beta_slider = widgets.FloatSlider(\n",
    "        value=2,\n",
    "        min=0,\n",
    "        max=10,\n",
    "        step=0.1,\n",
    "        description='beta:',\n",
    "        disabled=False,\n",
    "        continuous_update=False,\n",
    "        orientation='horizontal',\n",
    "        readout=True,\n",
    "        readout_format='.1f',\n",
    "    )\n",
    "    sigma_slider = widgets.FloatSlider(\n",
    "        value=4,\n",
    "        min=beta_slider.value,\n",
    "        max=10,\n",
    "        step=0.1,\n",
    "        description='sigma:',\n",
    "        disabled=False,\n",
    "        continuous_update=False,\n",
    "        orientation='horizontal',\n",
    "        readout=True,\n",
    "        readout_format='.1f',\n",
    "    )\n",
    "\n",
    "    N_slider = widgets.IntSlider(\n",
    "        value=10,\n",
    "        min=0,\n",
    "        max=100,\n",
    "        step=1,\n",
    "        description='N:',\n",
    "        disabled=False,\n",
    "        continuous_update=False,\n",
    "        orientation='horizontal',\n",
    "        readout=True,\n",
    "        readout_format='d'\n",
    "    )\n",
    "    def update_sigma_min(change):\n",
    "        sigma_slider.min = change['new']\n",
    "\n",
    "    beta_slider.observe(update_sigma_min, 'value')\n",
    "\n",
    "    output = widgets.Output()\n",
    "\n",
    "    def update_plot(change):\n",
    "        with output:\n",
    "            output.clear_output(wait=True)\n",
    "            lag.beta = beta_slider.value\n",
    "            lag.sigma = sigma_slider.value\n",
    "            plotter.plot_tranformations(func, N_slider.value, t0, t1)\n",
    "\n",
    "    N_slider.observe(update_plot, 'value')\n",
    "    beta_slider.observe(update_plot, 'value')\n",
    "    sigma_slider.observe(update_plot, 'value')\n",
    "\n",
    "    box = widgets.VBox([beta_slider, sigma_slider, N_slider, output])\n",
    "\n",
    "    display(box)"
   ]
  },
  {
   "cell_type": "code",
   "execution_count": 16,
   "metadata": {},
   "outputs": [
    {
     "data": {
      "application/vnd.jupyter.widget-view+json": {
       "model_id": "f45b705dfb7444f59d3a23c1fe8ab2df",
       "version_major": 2,
       "version_minor": 0
      },
      "text/plain": [
       "VBox(children=(FloatSlider(value=2.0, continuous_update=False, description='beta:', max=10.0, readout_format='…"
      ]
     },
     "metadata": {},
     "output_type": "display_data"
    }
   ],
   "source": [
    "create_transformation_widget(f, 0, 2*np.pi)"
   ]
  },
  {
   "cell_type": "code",
   "execution_count": 17,
   "metadata": {},
   "outputs": [],
   "source": [
    "def custom_func(t):\n",
    "    if t >= 0 and t <= np.pi/3:\n",
    "        return np.tan(t)\n",
    "    else:\n",
    "        return 2\n",
    "\n"
   ]
  },
  {
   "cell_type": "code",
   "execution_count": 18,
   "metadata": {},
   "outputs": [
    {
     "data": {
      "application/vnd.jupyter.widget-view+json": {
       "model_id": "22320b0053834ae292352e0eefcd61a1",
       "version_major": 2,
       "version_minor": 0
      },
      "text/plain": [
       "VBox(children=(FloatSlider(value=2.0, continuous_update=False, description='beta:', max=10.0, readout_format='…"
      ]
     },
     "metadata": {},
     "output_type": "display_data"
    }
   ],
   "source": [
    "create_transformation_widget(custom_func, 0, np.pi/3)"
   ]
  },
  {
   "cell_type": "code",
   "execution_count": 19,
   "metadata": {},
   "outputs": [],
   "source": [
    "#tests\n",
    "class TestIntegral(unittest.TestCase):\n",
    "    def test_integrate_quad(self):\n",
    "        def f(x):\n",
    "            return x\n",
    "\n",
    "        self.assertAlmostEqual(Integral.integrate_quad(f, 0, 1), 0.5, places=2)\n",
    "        self.assertAlmostEqual(Integral.integrate_quad(f, 0, 2), 2, places=2)\n",
    "        self.assertAlmostEqual(Integral.integrate_quad(f, 1, 2), 1.5, places=2)\n",
    "\n",
    "        def f(x):\n",
    "            return np.sin(x)\n",
    "\n",
    "        self.assertAlmostEqual(Integral.integrate_quad(f, 0, np.pi), 2, places=2)\n",
    "        self.assertAlmostEqual(Integral.integrate_quad(f, 0, 2*np.pi), 0, places=2)\n",
    "\n",
    "class TestLagguerre(unittest.TestCase):\n",
    "    def setUp(self):\n",
    "        self.lag = Lagguerre(2, 4)\n",
    "    \n",
    "    def tearDown(self):\n",
    "        del self.lag\n",
    "    \n",
    "    def test_laguerre(self):\n",
    "        self.assertAlmostEqual(self.lag.laguerre(1, 2), 0.735, places=2)\n",
    "        self.assertAlmostEqual(self.lag.laguerre(0, 2), 2, places=2)\n",
    "        self.assertAlmostEqual(self.lag.laguerre(2, 2), 4.6, places=2)\n",
    "        self.assertAlmostEqual(self.lag.laguerre(1, 1), -2.207, places=2)\n",
    "        self.assertAlmostEqual(self.lag.laguerre(5, 6), 68.77, places=2)\n",
    "    \n",
    "    def test_transformation(self):\n",
    "        def f(t):\n",
    "            if t >= 0 and t <= 2*np.pi:\n",
    "                return np.sin(t-np.pi/2) + 1\n",
    "            else:\n",
    "                return 0\n",
    "        self.assertAlmostEqual(self.lag.laguerre_transformation(f, 5), 0.0075, places=2)\n",
    "        self.assertAlmostEqual(self.lag.laguerre_transformation(f, 1), -0.182, places=2)\n",
    "        self.assertAlmostEqual(self.lag.laguerre_transformation(f, 3), -0.074, places=2)\n",
    "    \n",
    "    def test_reversed_transformation(self):\n",
    "        def f(t):\n",
    "            if t >= 0 and t <= 2*np.pi:\n",
    "                return np.sin(t-np.pi/2) + 1\n",
    "            else:\n",
    "                return 0\n",
    "        temp = self.lag.tabulate_transformation(f, 10)\n",
    "        self.assertAlmostEqual(self.lag.reversed_laguerre_transformation(temp, np.pi), 2, places=2)\n",
    "\n",
    "\n",
    "    "
   ]
  },
  {
   "cell_type": "code",
   "execution_count": 20,
   "metadata": {},
   "outputs": [
    {
     "name": "stderr",
     "output_type": "stream",
     "text": [
      "....\n",
      "----------------------------------------------------------------------\n",
      "Ran 4 tests in 7.881s\n",
      "\n",
      "OK\n"
     ]
    },
    {
     "data": {
      "text/plain": [
       "<unittest.main.TestProgram at 0x1dbcfb42010>"
      ]
     },
     "execution_count": 20,
     "metadata": {},
     "output_type": "execute_result"
    }
   ],
   "source": [
    "unittest.main(argv=[''], exit=False)"
   ]
  },
  {
   "cell_type": "code",
   "execution_count": null,
   "metadata": {},
   "outputs": [],
   "source": []
  }
 ],
 "metadata": {
  "kernelspec": {
   "display_name": "Python 3 (ipykernel)",
   "language": "python",
   "name": "python3"
  },
  "language_info": {
   "codemirror_mode": {
    "name": "ipython",
    "version": 3
   },
   "file_extension": ".py",
   "mimetype": "text/x-python",
   "name": "python",
   "nbconvert_exporter": "python",
   "pygments_lexer": "ipython3",
   "version": "3.11.3"
  }
 },
 "nbformat": 4,
 "nbformat_minor": 4
}
